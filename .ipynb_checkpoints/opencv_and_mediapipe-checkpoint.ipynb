{
 "cells": [
  {
   "cell_type": "code",
   "execution_count": 3,
   "metadata": {},
   "outputs": [],
   "source": [
    "# !pip install mediapipe"
   ]
  },
  {
   "cell_type": "code",
   "execution_count": 4,
   "metadata": {},
   "outputs": [],
   "source": [
    "# !pip install opencv-python"
   ]
  },
  {
   "cell_type": "code",
   "execution_count": 1,
   "metadata": {},
   "outputs": [],
   "source": [
    "import mediapipe as mp\n",
    "import cv2\n",
    "import numpy as np\n",
    "\n",
    "# Selenium stuff\n",
    "from selenium import webdriver\n",
    "from selenium.webdriver.common.by import By\n",
    "from selenium.webdriver.common.keys import Keys\n",
    "\n",
    "import time"
   ]
  },
  {
   "cell_type": "code",
   "execution_count": 2,
   "metadata": {},
   "outputs": [],
   "source": [
    "mp_drawing = mp.solutions.drawing_utils\n",
    "mp_holistic = mp.solutions.holistic"
   ]
  },
  {
   "cell_type": "code",
   "execution_count": 3,
   "metadata": {},
   "outputs": [],
   "source": [
    "\n",
    "# https://sites.google.com/a/chromium.org/chromedriver/home\n",
    "# Download ChromeDriver and extract. Then enter the path here.\n",
    "PATH_TO_CHROME = r\"/Users/saadbazaz/Documents/FAST Studies/Digital Image Processing Lab/Project/Dino-With-Hand-Gestures/t-rex-runner-gh-pages/chromedriver\"\n",
    "\n",
    "# The link to your Google Sheet\n",
    "DINO_GAME_LINK = r\"/Users/saadbazaz/Documents/FAST Studies/Digital Image Processing Lab/Project/Dino-With-Hand-Gestures/t-rex-runner-gh-pages/index.html\"\n",
    "# https://docs.google.com/spreadsheets/d/1bsbcPkyy5DkZjBCSpW5dJYdcAy6ncRtBwPts0gaTGXU/\n",
    "\n",
    "browser = webdriver.Chrome(PATH_TO_CHROME)\n",
    "res = browser.get('file://' + DINO_GAME_LINK)\n",
    "# while (True):\n",
    "#     browser.find_element_by_name(\"t\").send_keys(u'\\ue007')"
   ]
  },
  {
   "cell_type": "code",
   "execution_count": 4,
   "metadata": {},
   "outputs": [],
   "source": [
    "from selenium.webdriver.common.action_chains import ActionChains\n",
    "from selenium.webdriver.common.keys import Keys\n",
    "\n",
    "actions = ActionChains(browser)\n",
    "# actions.key_down(Keys.DOWN)\n",
    "# actions.perform()\n",
    "\n",
    "# time.sleep(1)\n",
    "\n",
    "\n",
    "\n",
    "# actions.key_up(Keys.DOWN)\n",
    "# actions.perform()\n",
    "\n",
    "# time.sleep(1)\n",
    "\n",
    "# actions.send_keys(Keys.UP)\n",
    "# actions.perform()\n",
    "\n"
   ]
  },
  {
   "cell_type": "markdown",
   "metadata": {},
   "source": [
    "# Get video"
   ]
  },
  {
   "cell_type": "code",
   "execution_count": 5,
   "metadata": {
    "scrolled": true
   },
   "outputs": [],
   "source": [
    "  \n",
    "# define a video capture object\n",
    "vid = cv2.VideoCapture(0)\n",
    "\n",
    "upper_thresh = 0.3\n",
    "lower_thresh = 0.7\n",
    "\n",
    "# 0 for Keep Running, 1 is for Jump, 2 is for Duck\n",
    "\n",
    "prev_pos = 0\n",
    "\n",
    "with mp_holistic.Holistic(min_detection_confidence=0.5, min_tracking_confidence=0.5) as holistic:\n",
    "\n",
    "    while vid.isOpened():\n",
    "\n",
    "        # Capture the video frame\n",
    "        # by frame\n",
    "        ret, frame = vid.read()\n",
    "        \n",
    "        image = cv2.cvtColor(frame, cv2.COLOR_BGR2RGB)\n",
    "\n",
    "        results = holistic.process(image)\n",
    "        \n",
    "        image = cv2.cvtColor(image, cv2.COLOR_RGB2BGR)\n",
    "\n",
    "        \n",
    "        \n",
    "        \n",
    "        mp_drawing.draw_landmarks(image, results.right_hand_landmarks, mp_holistic.HAND_CONNECTIONS)\n",
    "\n",
    "#         print (results.right_hand_landmarks)\n",
    "\n",
    "        if results.right_hand_landmarks is not None:\n",
    "            pos_y = results.right_hand_landmarks.landmark[0].y\n",
    "            \n",
    "#             print (pos_y)\n",
    "\n",
    "\n",
    "            ## Draw threshold lines\n",
    "            y_pix = int(np.multiply(lower_thresh, image.shape[0]))\n",
    "            cv2.line(image, (0, y_pix), (image.shape[1],  y_pix), (0,255,0), thickness=2)\n",
    "            \n",
    "            \n",
    "            y_pix = int(np.multiply(upper_thresh, image.shape[0]))\n",
    "            cv2.line(image, (0, y_pix), (image.shape[1],  y_pix), (255,0,0), thickness=2)\n",
    "    \n",
    "\n",
    "            if pos_y < upper_thresh:\n",
    "#                 print (\"Jump!\")\n",
    "                               \n",
    "            \n",
    "                if prev_pos == 1:\n",
    "                    pass  \n",
    "                elif prev_pos == 2:\n",
    "                    actions.key_up(Keys.DOWN)\n",
    "                    actions.key_down(Keys.UP)\n",
    "                    actions.perform() \n",
    "                else:\n",
    "                    actions.key_down(Keys.UP)\n",
    "                    actions.perform()                 \n",
    "            \n",
    "                prev_pos = 1\n",
    "    \n",
    "            elif pos_y > lower_thresh:\n",
    "#                 print (\"Duck.\")\n",
    "#                 actions.key_down(Keys.DOWN)\n",
    "\n",
    "                if prev_pos == 1:\n",
    "                    actions.key_up(Keys.UP)\n",
    "                    actions.key_down(Keys.DOWN)\n",
    "                    actions.perform()     \n",
    "                elif prev_pos == 2:\n",
    "                    pass\n",
    "                else:\n",
    "                    actions.key_down(Keys.DOWN)\n",
    "                    actions.perform()                     \n",
    "\n",
    "                prev_pos = 2\n",
    "\n",
    "\n",
    "            else:\n",
    "#                 print (\"Keep running.\")\n",
    "#                 actions.key_up(Keys.DOWN)\n",
    "\n",
    "                if prev_pos == 1:\n",
    "                    actions.key_up(Keys.UP)\n",
    "                    actions.perform() \n",
    "                elif prev_pos == 2:\n",
    "                    actions.key_up(Keys.DOWN)\n",
    "                    actions.perform() \n",
    "                else:\n",
    "                    pass\n",
    "                \n",
    "                prev_pos = 0            \n",
    "        # Display the resulting frame\n",
    "        cv2.imshow('frame', image)\n",
    "\n",
    "        # the 'q' button is set as the\n",
    "        # quitting button you may use any\n",
    "        # desired button of your choice\n",
    "        if cv2.waitKey(1) & 0xFF == ord('q'):\n",
    "            break\n",
    "\n",
    "# After the loop release the cap object\n",
    "vid.release()\n",
    "# Destroy all the windows\n",
    "cv2.destroyAllWindows()"
   ]
  },
  {
   "cell_type": "code",
   "execution_count": 10,
   "metadata": {},
   "outputs": [],
   "source": []
  },
  {
   "cell_type": "code",
   "execution_count": null,
   "metadata": {},
   "outputs": [],
   "source": []
  }
 ],
 "metadata": {
  "kernelspec": {
   "display_name": "Python 3",
   "language": "python",
   "name": "python3"
  },
  "language_info": {
   "codemirror_mode": {
    "name": "ipython",
    "version": 3
   },
   "file_extension": ".py",
   "mimetype": "text/x-python",
   "name": "python",
   "nbconvert_exporter": "python",
   "pygments_lexer": "ipython3",
   "version": "3.8.5"
  }
 },
 "nbformat": 4,
 "nbformat_minor": 4
}
